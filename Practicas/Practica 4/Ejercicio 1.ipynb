{
 "cells": [
  {
   "cell_type": "code",
   "execution_count": 4,
   "id": "74cfc8e0",
   "metadata": {
    "scrolled": true
   },
   "outputs": [
    {
     "name": "stdout",
     "output_type": "stream",
     "text": [
      "Intervalo de Confianza del 95% para la proporción poblacional:\n",
      "(0.63911, 0.72089)\n"
     ]
    }
   ],
   "source": [
    "import scipy.stats as stats\n",
    "import math\n",
    "\n",
    "# Datos\n",
    "exitos = 340\n",
    "n = 500\n",
    "nivel_confianza = 0.95\n",
    "\n",
    "# Calcular la proporción muestral\n",
    "proporcion_muestral = exitos / n\n",
    "\n",
    "# Calcular el valor crítico Z para el nivel de confianza deseado\n",
    "valor_critico = stats.norm.ppf((1 + nivel_confianza) / 2)\n",
    "\n",
    "# Calcular el error estándar\n",
    "error_estandar = math.sqrt((proporcion_muestral * (1 - proporcion_muestral)) / n)\n",
    "\n",
    "# Calcular el intervalo de confianza\n",
    "intervalo_confianza = (\n",
    "    proporcion_muestral - valor_critico * error_estandar,\n",
    "    proporcion_muestral + valor_critico * error_estandar\n",
    ")\n",
    "\n",
    "print(\"Intervalo de Confianza del 95% para la proporción poblacional:\")\n",
    "print(f\"({intervalo_confianza[0]:.5f}, {intervalo_confianza[1]:.5f})\")"
   ]
  },
  {
   "cell_type": "code",
   "execution_count": null,
   "id": "4295a638",
   "metadata": {},
   "outputs": [],
   "source": []
  }
 ],
 "metadata": {
  "kernelspec": {
   "display_name": "Python 3 (ipykernel)",
   "language": "python",
   "name": "python3"
  },
  "language_info": {
   "codemirror_mode": {
    "name": "ipython",
    "version": 3
   },
   "file_extension": ".py",
   "mimetype": "text/x-python",
   "name": "python",
   "nbconvert_exporter": "python",
   "pygments_lexer": "ipython3",
   "version": "3.11.4"
  }
 },
 "nbformat": 4,
 "nbformat_minor": 5
}
