{
 "cells": [
  {
   "cell_type": "markdown",
   "id": "417c3572",
   "metadata": {},
   "source": [
    "# Estadística Avanzada Clase 1\n",
    "## Básicos de Python"
   ]
  },
  {
   "cell_type": "code",
   "execution_count": 1,
   "id": "b7d0bae9",
   "metadata": {},
   "outputs": [
    {
     "name": "stdout",
     "output_type": "stream",
     "text": [
      "x es mayor a 6\n"
     ]
    }
   ],
   "source": [
    "x = 6.25\n",
    "if x > 6:\n",
    "    print('x es mayor a 6')\n",
    "elif x == 6:\n",
    "    print('x es igual a 6')\n",
    "else: \n",
    "    print('x es menor a 6')"
   ]
  },
  {
   "cell_type": "code",
   "execution_count": 10,
   "id": "ef51f9dc",
   "metadata": {},
   "outputs": [
    {
     "name": "stdout",
     "output_type": "stream",
     "text": [
      "3\n"
     ]
    }
   ],
   "source": [
    "lista = [5, 8, 'a']\n",
    "print(len(lista))"
   ]
  },
  {
   "cell_type": "code",
   "execution_count": 16,
   "id": "155ec7dd",
   "metadata": {},
   "outputs": [
    {
     "name": "stdout",
     "output_type": "stream",
     "text": [
      "range(0, 10, 2)\n"
     ]
    }
   ],
   "source": [
    "x = range(0, 10, 2) #inicio final incremento\n",
    "print(x)"
   ]
  },
  {
   "cell_type": "code",
   "execution_count": 24,
   "id": "a3d75c21",
   "metadata": {},
   "outputs": [],
   "source": [
    "x = 10 # enteros\n",
    "y = 0.5 # decimales\n",
    "z = 'hola' # texto"
   ]
  },
  {
   "cell_type": "code",
   "execution_count": 26,
   "id": "575a8e9d",
   "metadata": {},
   "outputs": [
    {
     "name": "stdout",
     "output_type": "stream",
     "text": [
      "2 3 3\n",
      "1 2 3\n"
     ]
    }
   ],
   "source": [
    "x, y, z = 1, 2, 3 # asignación multiple\n",
    "\n",
    "x, y = y, z # intercambio de valores\n",
    "print(x, y, z)\n",
    "\n",
    "x, y, z = (1, 2, 3) # desempaquetado\n",
    "print(x, y, z)"
   ]
  },
  {
   "cell_type": "code",
   "execution_count": 30,
   "id": "3176eba9",
   "metadata": {},
   "outputs": [
    {
     "name": "stdout",
     "output_type": "stream",
     "text": [
      "El tamaño de la tupla es: 3\n",
      "El último elemento de la lista es:  a6\n"
     ]
    }
   ],
   "source": [
    "tupla = (1, 2 ,3)\n",
    "lista = [4, 5.5, 'a6']\n",
    "conjunto = {'a', 'b', 'c'}\n",
    "\n",
    "print('El tamaño de la tupla es:', len(tupla))\n",
    "print('El último elemento de la lista es: ', lista[-1])"
   ]
  },
  {
   "cell_type": "code",
   "execution_count": 23,
   "id": "b93bee3d",
   "metadata": {},
   "outputs": [
    {
     "name": "stdout",
     "output_type": "stream",
     "text": [
      "{10: 0.1, 20: 0.2, 30: 0.3, 40: 0.4}\n"
     ]
    }
   ],
   "source": [
    "diccionario = {\n",
    "    10: 0.1,\n",
    "    20: 0.2,\n",
    "    30: 0.3\n",
    "}\n",
    "\n",
    "diccionario[40] = 0.4\n",
    "\n",
    "print(diccionario)"
   ]
  },
  {
   "cell_type": "code",
   "execution_count": 42,
   "id": "5bcea0fc",
   "metadata": {},
   "outputs": [
    {
     "name": "stdout",
     "output_type": "stream",
     "text": [
      "{1: '1', 2: 'b', 3: (1, 2, 3), 4: [(1, 2, 3)]}\n"
     ]
    }
   ],
   "source": [
    "tupla = (1, 2 ,3)\n",
    "lista = [tupla]\n",
    "\n",
    "diccionario = {\n",
    "    1: '1',\n",
    "    2: 'b',\n",
    "    3: tupla,\n",
    "    4: lista\n",
    "}\n",
    "\n",
    "conjunto = {tupla} # no puede incluir objetos mutables como listas, diccionarios, e incluso otros conjuntos.\n",
    "\n",
    "print(diccionario)"
   ]
  }
 ],
 "metadata": {
  "kernelspec": {
   "display_name": "Python 3 (ipykernel)",
   "language": "python",
   "name": "python3"
  },
  "language_info": {
   "codemirror_mode": {
    "name": "ipython",
    "version": 3
   },
   "file_extension": ".py",
   "mimetype": "text/x-python",
   "name": "python",
   "nbconvert_exporter": "python",
   "pygments_lexer": "ipython3",
   "version": "3.11.4"
  }
 },
 "nbformat": 4,
 "nbformat_minor": 5
}
