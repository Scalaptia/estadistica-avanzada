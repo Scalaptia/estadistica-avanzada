{
 "cells": [
  {
   "cell_type": "code",
   "execution_count": 71,
   "id": "eeddf24b",
   "metadata": {
    "scrolled": true
   },
   "outputs": [],
   "source": [
    "import numpy as np\n",
    "import random\n",
    "import scipy.stats as st"
   ]
  },
  {
   "cell_type": "code",
   "execution_count": 96,
   "id": "14be6d3c",
   "metadata": {
    "scrolled": false
   },
   "outputs": [
    {
     "name": "stdout",
     "output_type": "stream",
     "text": [
      "Tamaño Muestra: 10000\n",
      "Media Muestral: 49.8198\n",
      "Desviación Muestral: 28.93969122088209\n",
      "Intervalo de confianza (99%): 49.07460295106229 - 50.56499704893771\n",
      "Margen de error: 1.4903940978754278\n"
     ]
    }
   ],
   "source": [
    "tamaño_muestra = 10000\n",
    "confianza = 0.99\n",
    "calificaciones = list(range(0, 101))\n",
    "muestra = random.choices(calificaciones, k = tamaño_muestra) # Genera una muestra con calif de 1-100 de tamaño definido. \n",
    "\n",
    "med_calif = np.mean(muestra)\n",
    "des_calif = np.std(muestra)\n",
    "\n",
    "# alfa = 0.01 entonces alfa/2 = 0.005\n",
    "# z0.005 = 2.575\n",
    "z = 2.575\n",
    "\n",
    "margen_err = z * (des_calif / np.sqrt(tamaño_muestra)) # Fórmula para margen de error.\n",
    "men_confianza = med_calif - margen_err\n",
    "may_confianza = med_calif + margen_err\n",
    "\n",
    "print(f\"Tamaño Muestra: {tamaño_muestra}\")\n",
    "print(f\"Media Muestral: {med_calif}\")\n",
    "print(f\"Desviación Muestral: {des_calif}\")\n",
    "print(f\"Intervalo de confianza (99%): {men_confianza} - {may_confianza}\")\n",
    "print(f\"Margen de error: {margen_err * 2}\")"
   ]
  },
  {
   "cell_type": "markdown",
   "id": "b51c78b6",
   "metadata": {},
   "source": [
    "#### A medida que aumenta el tamaño de la muestra, la precisión de la estimación de la media y la desviación estándar mejora. "
   ]
  },
  {
   "cell_type": "markdown",
   "id": "251f644b",
   "metadata": {},
   "source": [
    "#### Compobando problema presentación"
   ]
  },
  {
   "cell_type": "code",
   "execution_count": 95,
   "id": "042a3593",
   "metadata": {},
   "outputs": [
    {
     "name": "stdout",
     "output_type": "stream",
     "text": [
      "Tamaño Muestra: 36\n",
      "Media Muestral: 2.6\n",
      "Desviación Muestral: 0.3\n",
      "Intervalo de confianza (99%): 2.5020000000000002 - 2.698\n",
      "Margen de error: 0.19599999999999998\n"
     ]
    }
   ],
   "source": [
    "# Primera manera\n",
    "\n",
    "tamaño_muestra = 36\n",
    "confianza = 0.95 \n",
    "media = 2.6\n",
    "desviacion = 0.3\n",
    "\n",
    "z = 1.96\n",
    "\n",
    "margen_err = z * (desviacion / np.sqrt(tamaño_muestra)) # Fórmula para margen de error.\n",
    "men_confianza = media - margen_err\n",
    "may_confianza = media + margen_err\n",
    "\n",
    "print(f\"Tamaño Muestra: {tamaño_muestra}\")\n",
    "print(f\"Media Muestral: {media}\")\n",
    "print(f\"Desviación Muestral: {desviacion}\")\n",
    "print(f\"Intervalo de confianza (99%): {men_confianza} - {may_confianza}\")\n",
    "print(f\"Margen de error: {margen_err * 2}\")"
   ]
  },
  {
   "cell_type": "code",
   "execution_count": 92,
   "id": "8a88a287",
   "metadata": {},
   "outputs": [
    {
     "name": "stdout",
     "output_type": "stream",
     "text": [
      "Confianza: (2.5020018007729976, 2.6979981992270026)\n",
      "Rango error: 0.19599639845400496\n"
     ]
    }
   ],
   "source": [
    "# Segunda manera\n",
    "\n",
    "tamaño_muestra = 36\n",
    "confianza = 0.95\n",
    "media = 2.6\n",
    "desviacion = 0.3\n",
    "\n",
    "inter_confianza = st.norm.interval(confianza, loc = media, scale = desviacion/np.sqrt(tamaño_muestra)) \n",
    "print(f\"Confianza: {inter_confianza}\")\n",
    "\n",
    "rango_error = inter_confianza[1] - inter_confianza[0]\n",
    "print(f\"Rango error: {rango_error}\")"
   ]
  }
 ],
 "metadata": {
  "kernelspec": {
   "display_name": "Python 3 (ipykernel)",
   "language": "python",
   "name": "python3"
  },
  "language_info": {
   "codemirror_mode": {
    "name": "ipython",
    "version": 3
   },
   "file_extension": ".py",
   "mimetype": "text/x-python",
   "name": "python",
   "nbconvert_exporter": "python",
   "pygments_lexer": "ipython3",
   "version": "3.11.4"
  }
 },
 "nbformat": 4,
 "nbformat_minor": 5
}
