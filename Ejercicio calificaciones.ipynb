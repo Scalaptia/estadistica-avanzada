{
 "cells": [
  {
   "cell_type": "code",
   "execution_count": 26,
   "id": "eeddf24b",
   "metadata": {
    "scrolled": true
   },
   "outputs": [],
   "source": [
    "import random\n",
    "import numpy as np\n",
    "from scipy import stats"
   ]
  },
  {
   "cell_type": "code",
   "execution_count": 44,
   "id": "14be6d3c",
   "metadata": {
    "scrolled": false
   },
   "outputs": [
    {
     "name": "stdout",
     "output_type": "stream",
     "text": [
      "z: 2.5758293035489004\n"
     ]
    }
   ],
   "source": [
    "calificaciones = np.random.randint(0, high = 100, size = 200)\n",
    "med_calif = np.mean(calificaciones)\n",
    "des_calif = np.std(calificaciones)\n",
    "confianza = 0.99\n",
    "z = stats.norm.ppf(1 - (1 - confianza) / 2)\n",
    "print(\"z:\", z)"
   ]
  },
  {
   "cell_type": "code",
   "execution_count": 45,
   "id": "6f38c0e2",
   "metadata": {
    "scrolled": true
   },
   "outputs": [
    {
     "name": "stdout",
     "output_type": "stream",
     "text": [
      "Muestra: 300\n",
      "Media: 51.105\n",
      "Desviación: 28.96176747023565\n",
      "Intervalo de confianza (99%): 46.797934121423815 55.41206587857618\n"
     ]
    }
   ],
   "source": [
    "margen_err = z * (des_calif / np.sqrt(300))\n",
    "men_confianza = med_calif - margen_err\n",
    "may_confianza = med_calif + margen_err\n",
    "\n",
    "print(\"Muestra: 300\")\n",
    "print(\"Media:\", med_calif)\n",
    "print(\"Desviación:\", des_calif)\n",
    "print(\"Intervalo de confianza (99%):\", men_confianza, may_confianza)\n"
   ]
  },
  {
   "cell_type": "markdown",
   "id": "b51c78b6",
   "metadata": {},
   "source": [
    "#### A medida que aumenta el tamaño de la muestra, la precisión de la estimación de la media y la desviación estándar mejora. "
   ]
  }
 ],
 "metadata": {
  "kernelspec": {
   "display_name": "Python 3 (ipykernel)",
   "language": "python",
   "name": "python3"
  },
  "language_info": {
   "codemirror_mode": {
    "name": "ipython",
    "version": 3
   },
   "file_extension": ".py",
   "mimetype": "text/x-python",
   "name": "python",
   "nbconvert_exporter": "python",
   "pygments_lexer": "ipython3",
   "version": "3.11.4"
  }
 },
 "nbformat": 4,
 "nbformat_minor": 5
}
