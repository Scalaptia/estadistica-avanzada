{
 "cells": [
  {
   "cell_type": "code",
   "execution_count": 1,
   "id": "d1b6d41a",
   "metadata": {
    "scrolled": true
   },
   "outputs": [],
   "source": [
    "import random\n",
    "import numpy as np"
   ]
  },
  {
   "cell_type": "code",
   "execution_count": 11,
   "id": "b864a86c",
   "metadata": {},
   "outputs": [],
   "source": [
    "num_calif_1 = 300\n",
    "num_calif_2 = 700\n",
    "num_calif_3 = 4000\n",
    "num_calif_4 = 4000\n",
    "num_calif_5 = 1000"
   ]
  },
  {
   "cell_type": "code",
   "execution_count": 15,
   "id": "8966c4a8",
   "metadata": {},
   "outputs": [],
   "source": [
    "poblacion = [1] * num_calif_1 + [2] * num_calif_2 + [3] * num_calif_3 + [4] * num_calif_4 + [5] * num_calif_5"
   ]
  },
  {
   "cell_type": "markdown",
   "id": "cbd4a40a",
   "metadata": {},
   "source": [
    "#### Describa la población estadística para el índice de productividad variable"
   ]
  },
  {
   "cell_type": "code",
   "execution_count": 12,
   "id": "322f62cc",
   "metadata": {
    "scrolled": true
   },
   "outputs": [
    {
     "name": "stdout",
     "output_type": "stream",
     "text": [
      "Calificación 1: 300 empleados\n",
      "Calificación 2: 700 empleados\n",
      "Calificación 3: 4000 empleados\n",
      "Calificación 4: 4000 empleados\n",
      "Calificación 5: 1000 empleados\n"
     ]
    }
   ],
   "source": [
    "poblacion_estadistica = {\n",
    "    1: num_calif_1,\n",
    "    2: num_calif_2,\n",
    "    3: num_calif_3,\n",
    "    4: num_calif_4,\n",
    "    5: num_calif_5\n",
    "}\n",
    "\n",
    "for calif, num_empleados in poblacion_estadistica.items():\n",
    "    print(f\"Calificación {calif}: {num_empleados} empleados\")"
   ]
  },
  {
   "cell_type": "markdown",
   "id": "30652930",
   "metadata": {},
   "source": [
    "#### Calcular el valor medio (o esperado) E(X) de X."
   ]
  },
  {
   "cell_type": "code",
   "execution_count": 18,
   "id": "a3301e6b",
   "metadata": {},
   "outputs": [
    {
     "name": "stdout",
     "output_type": "stream",
     "text": [
      "Valor medio (esperado) de X: 3.47\n"
     ]
    }
   ],
   "source": [
    "valor_medio = np.mean(poblacion)\n",
    "\n",
    "print(f\"Valor medio (esperado) de X: {valor_medio}\")\n"
   ]
  },
  {
   "cell_type": "markdown",
   "id": "9dc6a449",
   "metadata": {},
   "source": [
    "#### Calcular la media muestral de las calificaciones de productividad de los 10 empleados seleccionados."
   ]
  },
  {
   "cell_type": "code",
   "execution_count": 27,
   "id": "32b7c829",
   "metadata": {},
   "outputs": [
    {
     "name": "stdout",
     "output_type": "stream",
     "text": [
      "Media muestral de los empleados seleccionados: 3.7\n"
     ]
    }
   ],
   "source": [
    "muestra = [2, 3, 3, 3, 4, 4, 4, 4, 5, 5]\n",
    "\n",
    "media_muestral = np.mean(muestra)\n",
    "\n",
    "print(f\"Media muestral de los empleados seleccionados: {media_muestral}\")\n"
   ]
  },
  {
   "cell_type": "markdown",
   "id": "b4f1b2f5",
   "metadata": {},
   "source": [
    "#### Generar cinco muestras de tamaño 10 y calcular la media muestral para cada muestra"
   ]
  },
  {
   "cell_type": "code",
   "execution_count": 1,
   "id": "9cf6df0b",
   "metadata": {
    "scrolled": true
   },
   "outputs": [
    {
     "ename": "NameError",
     "evalue": "name 'random' is not defined",
     "output_type": "error",
     "traceback": [
      "\u001b[1;31m---------------------------------------------------------------------------\u001b[0m",
      "\u001b[1;31mNameError\u001b[0m                                 Traceback (most recent call last)",
      "Cell \u001b[1;32mIn[1], line 2\u001b[0m\n\u001b[0;32m      1\u001b[0m \u001b[39mfor\u001b[39;00m i \u001b[39min\u001b[39;00m \u001b[39mrange\u001b[39m(\u001b[39m5\u001b[39m):\n\u001b[1;32m----> 2\u001b[0m     muestra \u001b[39m=\u001b[39m random\u001b[39m.\u001b[39msample(poblacion, \u001b[39m10\u001b[39m)\n\u001b[0;32m      3\u001b[0m     media_muestral \u001b[39m=\u001b[39m np\u001b[39m.\u001b[39mmean(muestra)\n\u001b[0;32m      4\u001b[0m     \u001b[39mprint\u001b[39m(\u001b[39mf\u001b[39m\u001b[39m\"\u001b[39m\u001b[39mMuestra \u001b[39m\u001b[39m{\u001b[39;00mi\u001b[39m \u001b[39m\u001b[39m+\u001b[39m\u001b[39m \u001b[39m\u001b[39m1\u001b[39m\u001b[39m}\u001b[39;00m\u001b[39m: \u001b[39m\u001b[39m{\u001b[39;00mmuestra\u001b[39m}\u001b[39;00m\u001b[39m - Media muestral: \u001b[39m\u001b[39m{\u001b[39;00mmedia_muestral\u001b[39m}\u001b[39;00m\u001b[39m\"\u001b[39m)\n",
      "\u001b[1;31mNameError\u001b[0m: name 'random' is not defined"
     ]
    }
   ],
   "source": [
    "for i in range(5):\n",
    "    muestra = random.sample(poblacion, 10)\n",
    "    media_muestral = np.mean(muestra)\n",
    "    print(f\"Muestra {i + 1}: {muestra} - Media muestral: {media_muestral}\")\n",
    "\n"
   ]
  }
 ],
 "metadata": {
  "kernelspec": {
   "display_name": "Python 3 (ipykernel)",
   "language": "python",
   "name": "python3"
  },
  "language_info": {
   "codemirror_mode": {
    "name": "ipython",
    "version": 3
   },
   "file_extension": ".py",
   "mimetype": "text/x-python",
   "name": "python",
   "nbconvert_exporter": "python",
   "pygments_lexer": "ipython3",
   "version": "3.11.4"
  }
 },
 "nbformat": 4,
 "nbformat_minor": 5
}
