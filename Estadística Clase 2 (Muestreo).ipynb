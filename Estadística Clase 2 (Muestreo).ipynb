{
 "cells": [
  {
   "cell_type": "code",
   "execution_count": 2,
   "id": "be527f29",
   "metadata": {},
   "outputs": [],
   "source": [
    "import random"
   ]
  },
  {
   "cell_type": "markdown",
   "id": "56a41021",
   "metadata": {},
   "source": [
    "### Obtener una muestra de 12 batidoras aleatoriamente de una lista de 60 "
   ]
  },
  {
   "cell_type": "code",
   "execution_count": 3,
   "id": "57f49c5d",
   "metadata": {},
   "outputs": [
    {
     "name": "stdout",
     "output_type": "stream",
     "text": [
      "La población es:  [0, 1, 2, 3, 4, 5, 6, 7, 8, 9, 10, 11, 12, 13, 14, 15, 16, 17, 18, 19, 20, 21, 22, 23, 24, 25, 26, 27, 28, 29, 30, 31, 32, 33, 34, 35, 36, 37, 38, 39, 40, 41, 42, 43, 44, 45, 46, 47, 48, 49, 50, 51, 52, 53, 54, 55, 56, 57, 58, 59]\n",
      "[2, 18, 44, 38, 29, 14, 36, 47, 21, 45, 17, 57]\n"
     ]
    }
   ],
   "source": [
    "# Forma 1\n",
    "\n",
    "batidoras = range(0,60,1)\n",
    "\n",
    "poblacion = list(batidoras)\n",
    "print(\"La población es: \", poblacion)\n",
    "\n",
    "muestra1 = random.sample(poblacion, 12)\n",
    "\n",
    "print(muestra1)"
   ]
  },
  {
   "cell_type": "code",
   "execution_count": 4,
   "id": "e532a2c3",
   "metadata": {},
   "outputs": [
    {
     "name": "stdout",
     "output_type": "stream",
     "text": [
      "[58, 36, 21, 41, 29, 37, 14, 45, 5, 25, 19, 12]\n"
     ]
    }
   ],
   "source": [
    "# Forma 2\n",
    "\n",
    "batidoras = list(range(0, 60, 1))\n",
    "muestra2 = random.sample(batidoras, 12)\n",
    "\n",
    "print(muestra2)"
   ]
  },
  {
   "cell_type": "markdown",
   "id": "4dbdd32b",
   "metadata": {},
   "source": [
    "### Obtener una muestra con remplazo (elemento no repetido) de 20 de la altura de 50 estudiantes"
   ]
  },
  {
   "cell_type": "code",
   "execution_count": 5,
   "id": "6c062910",
   "metadata": {},
   "outputs": [
    {
     "name": "stdout",
     "output_type": "stream",
     "text": [
      "Las alturas son:  [150, 151, 152, 153, 154, 155, 156, 157, 158, 159, 160, 161, 162, 163, 164, 165, 166, 167, 168, 169, 170, 171, 172, 173, 174, 175, 176, 177, 178, 179, 180, 181, 182, 183, 184, 185, 186, 187, 188, 189, 190, 191, 192, 193, 194, 195, 196, 197, 198, 199]\n",
      "[155, 150, 198, 168, 171, 188, 189, 195, 165, 193, 169, 164, 172, 178, 157, 179, 163, 197, 177, 170]\n"
     ]
    }
   ],
   "source": [
    "alturas = list(range(150, 200, 1))\n",
    "print(\"Las alturas son: \", alturas)\n",
    "\n",
    "alturas_muestra20 = random.sample(alturas, 20)\n",
    "\n",
    "print(alturas_muestra20)"
   ]
  },
  {
   "cell_type": "markdown",
   "id": "0e9a666b",
   "metadata": {},
   "source": [
    "### Obtener una muestra sin remplazo de 20 de la altura de 50 estudiantes\n",
    "#### Random.choices(seq, k=n) genera n muestras a partir de una secuencia con posibilidad de repetición."
   ]
  },
  {
   "cell_type": "code",
   "execution_count": 6,
   "id": "ba895204",
   "metadata": {},
   "outputs": [
    {
     "name": "stdout",
     "output_type": "stream",
     "text": [
      "50\n",
      "[168, 179, 188, 181, 188, 167, 184, 185, 179, 173, 171, 190, 166, 188, 185, 177, 163, 174, 166, 174]\n"
     ]
    }
   ],
   "source": [
    "print(len(alturas))\n",
    "\n",
    "muestra3 = random.choices(alturas, k=20) # k puede ser mayor que tamaño de la muestra ya que se repiten.\n",
    "print(muestra3)"
   ]
  },
  {
   "cell_type": "markdown",
   "id": "7a4f5bb4",
   "metadata": {},
   "source": [
    "### Obtener muestreo estratificado de 100 clientes en una poblacion de 1000\n",
    "#### Grupos = 800A, 150B, 50C"
   ]
  },
  {
   "cell_type": "code",
   "execution_count": 7,
   "id": "074e0d96",
   "metadata": {},
   "outputs": [
    {
     "name": "stdout",
     "output_type": "stream",
     "text": [
      "[147, 398, 584, 574, 467, 612, 225, 526, 789, 53, 28, 257, 266, 463, 501, 668, 439, 791, 452, 527, 793, 339, 447, 576, 372, 689, 342, 43, 442, 55, 587, 381, 62, 256, 448, 792, 99, 778, 278, 748, 167, 57, 650, 653, 474, 570, 741, 215, 440, 685, 521, 604, 327, 211, 715, 56, 629, 156, 104, 660, 38, 517, 522, 371, 101, 249, 578, 59, 536, 720, 345, 601, 331, 677, 271, 109, 734, 36, 41, 396, 906, 914, 876, 923, 868, 820, 850, 915, 839, 818, 881, 842, 822, 874, 921, 965, 974, 982, 958, 989]\n"
     ]
    }
   ],
   "source": [
    "grupoA = list(range(1, 801))\n",
    "grupoB = list(range(801, 951))\n",
    "grupoC = list(range(951, 1001))\n",
    "#print(\"Grupo A: \", grupoA)\n",
    "#print(\"Grupo B: \", grupoB)\n",
    "#print(\"Grupo C: \", grupoC)\n",
    "\n",
    "muestraA = random.sample(grupoA, 80)\n",
    "muestraB = random.sample(grupoB, 15)\n",
    "muestraC = random.sample(grupoC, 5)\n",
    "\n",
    "muestraGeneral = muestraA + muestraB + muestraC\n",
    "\n",
    "print(muestraGeneral)"
   ]
  }
 ],
 "metadata": {
  "kernelspec": {
   "display_name": "Python 3 (ipykernel)",
   "language": "python",
   "name": "python3"
  },
  "language_info": {
   "codemirror_mode": {
    "name": "ipython",
    "version": 3
   },
   "file_extension": ".py",
   "mimetype": "text/x-python",
   "name": "python",
   "nbconvert_exporter": "python",
   "pygments_lexer": "ipython3",
   "version": "3.11.4"
  }
 },
 "nbformat": 4,
 "nbformat_minor": 5
}
