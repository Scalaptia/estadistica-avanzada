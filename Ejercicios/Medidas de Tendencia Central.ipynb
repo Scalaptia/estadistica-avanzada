{
 "cells": [
  {
   "cell_type": "code",
   "execution_count": 7,
   "id": "f9ea7e34",
   "metadata": {},
   "outputs": [],
   "source": [
    "import numpy as np\n",
    "import statistics as st"
   ]
  },
  {
   "cell_type": "code",
   "execution_count": 31,
   "id": "ee9add92",
   "metadata": {
    "scrolled": true
   },
   "outputs": [
    {
     "name": "stdout",
     "output_type": "stream",
     "text": [
      "Longitud del arreglo: 100\n",
      "[15 14 36 52 65 13 91 14 98 95 99  4 74 78 29  2 59 26 74  7 41 49 44 18\n",
      " 99 81 49 94 49 36 17 13  0 32 90 62 90 67 65 18 18 68 43 89 26 24 14 74\n",
      " 28 68 88  3 82 14 96 48 32 35  7  5 25 32 89 17 17 81  3 92  5 83 72 12\n",
      " 44 74 14 84 63 40 27 97 91 32 19 58 69 32 95 10 18 89 43 50 16 75 46  1\n",
      " 39 11 14 48]\n"
     ]
    }
   ],
   "source": [
    "c100 = np.random.randint(0, high = 100, size = 100)\n",
    "print(\"Longitud del arreglo:\", len(c100))\n",
    "print(c100)"
   ]
  },
  {
   "cell_type": "code",
   "execution_count": 32,
   "id": "554e4747",
   "metadata": {},
   "outputs": [
    {
     "name": "stdout",
     "output_type": "stream",
     "text": [
      "La media de las calificaciones es = 46\n"
     ]
    }
   ],
   "source": [
    "# Media\n",
    "media_c100 = st.mean(c100)\n",
    "print(\"La media de las calificaciones es =\", media_c100)"
   ]
  },
  {
   "cell_type": "code",
   "execution_count": 33,
   "id": "8ccbd344",
   "metadata": {},
   "outputs": [
    {
     "name": "stdout",
     "output_type": "stream",
     "text": [
      "La desviacion estándar de las calificaciones es = 30.98757170221636\n"
     ]
    }
   ],
   "source": [
    "# Desviacion estandar\n",
    "ds_c100 = np.std(c100)\n",
    "print(\"La desviacion estándar de las calificaciones es =\", ds_c100)"
   ]
  },
  {
   "cell_type": "code",
   "execution_count": 34,
   "id": "9701fca6",
   "metadata": {},
   "outputs": [
    {
     "name": "stdout",
     "output_type": "stream",
     "text": [
      "La varianza de las calificaciones es = 969\n"
     ]
    }
   ],
   "source": [
    "# Varianza\n",
    "var_c100 = st.variance(c100)\n",
    "print(\"La varianza de las calificaciones es =\", var_c100)"
   ]
  },
  {
   "cell_type": "code",
   "execution_count": 35,
   "id": "8bcaada9",
   "metadata": {},
   "outputs": [
    {
     "name": "stdout",
     "output_type": "stream",
     "text": [
      "La mediana de las calificaciones es = 43.0\n"
     ]
    }
   ],
   "source": [
    "# Mediana\n",
    "mediana_c100 = st.median(c100)\n",
    "print(\"La mediana de las calificaciones es =\", mediana_c100)"
   ]
  },
  {
   "cell_type": "code",
   "execution_count": 36,
   "id": "757f1477",
   "metadata": {},
   "outputs": [
    {
     "name": "stdout",
     "output_type": "stream",
     "text": [
      "La moda de las calificaciones es = 14\n"
     ]
    }
   ],
   "source": [
    "# Moda\n",
    "moda_c100 = st.mode(c100)\n",
    "print(\"La moda de las calificaciones es =\", moda_c100)"
   ]
  }
 ],
 "metadata": {
  "kernelspec": {
   "display_name": "Python 3 (ipykernel)",
   "language": "python",
   "name": "python3"
  },
  "language_info": {
   "codemirror_mode": {
    "name": "ipython",
    "version": 3
   },
   "file_extension": ".py",
   "mimetype": "text/x-python",
   "name": "python",
   "nbconvert_exporter": "python",
   "pygments_lexer": "ipython3",
   "version": "3.11.4"
  }
 },
 "nbformat": 4,
 "nbformat_minor": 5
}
