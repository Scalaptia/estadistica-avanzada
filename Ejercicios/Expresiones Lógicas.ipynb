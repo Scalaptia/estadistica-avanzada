{
 "cells": [
  {
   "cell_type": "code",
   "execution_count": 14,
   "id": "5f9dd6cf",
   "metadata": {
    "scrolled": true
   },
   "outputs": [
    {
     "name": "stdout",
     "output_type": "stream",
     "text": [
      "Introduce la expresión lógica (AND, OR, NOT)or\n",
      "P   |   Q   |  P v Q\n",
      "-----------------------\n",
      "True | True | True\n",
      "True | False | True\n",
      "False | True | True\n",
      "False | False | False\n"
     ]
    }
   ],
   "source": [
    "# Código para tablas de verdad de expresiones lógicas\n",
    "# Fernando Haro Calvo\n",
    "# 25 / 08 / 23\n",
    "\n",
    "expresion = input(\"Introduce la expresión lógica (AND, OR, NOT)\").upper() # Leer expresion y convertirla en mayusculas\n",
    "\n",
    "if (expresion == 'AND'):\n",
    "    print(\"P   |   Q   |  P ^ Q\")\n",
    "    print(\"-----------------------\")\n",
    "\n",
    "    for p in [True, False]:\n",
    "        for q in [True, False]:\n",
    "            result = p and q\n",
    "            print(\"{} | {} | {}\".format(p, q, result))\n",
    "            \n",
    "elif (expresion == 'OR'):\n",
    "    print(\"P   |   Q   |  P v Q\")\n",
    "    print(\"-----------------------\")\n",
    "\n",
    "    for p in [True, False]:\n",
    "        for q in [True, False]:\n",
    "            result = p or q\n",
    "            print(\"{} | {} | {}\".format(p, q, result))\n",
    "            \n",
    "elif (expresion == 'NOT'):\n",
    "    print(\"P   |   ~P\")\n",
    "    print(\"------------\")\n",
    "\n",
    "    for p in [True, False]:\n",
    "        not_p = not p\n",
    "        print(\"{} | {} \".format(p, not_p))\n",
    "        \n",
    "else:\n",
    "    print(\"Opción no válida\")\n"
   ]
  },
  {
   "cell_type": "code",
   "execution_count": null,
   "id": "359f0e5f",
   "metadata": {},
   "outputs": [],
   "source": []
  }
 ],
 "metadata": {
  "kernelspec": {
   "display_name": "Python 3 (ipykernel)",
   "language": "python",
   "name": "python3"
  },
  "language_info": {
   "codemirror_mode": {
    "name": "ipython",
    "version": 3
   },
   "file_extension": ".py",
   "mimetype": "text/x-python",
   "name": "python",
   "nbconvert_exporter": "python",
   "pygments_lexer": "ipython3",
   "version": "3.11.4"
  }
 },
 "nbformat": 4,
 "nbformat_minor": 5
}
